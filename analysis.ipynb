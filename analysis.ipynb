{
 "metadata": {
  "language_info": {
   "codemirror_mode": {
    "name": "ipython",
    "version": 3
   },
   "file_extension": ".py",
   "mimetype": "text/x-python",
   "name": "python",
   "nbconvert_exporter": "python",
   "pygments_lexer": "ipython3",
   "version": "3.9.2"
  },
  "orig_nbformat": 2,
  "kernelspec": {
   "name": "python392jvsc74a57bd01b0be30eeffbd0c102ff4981a7c3a7a7c0dfac027d79a2cf1d6d689803b48e0a",
   "display_name": "Python 3.9.2 64-bit"
  }
 },
 "nbformat": 4,
 "nbformat_minor": 2,
 "cells": [
  {
   "source": [
    "# Introduction\n",
    "\n",
    "In this short, fun analysis, we will have a look at [Hans Lienesch's quest to rate all the instant ramen the world has to offer](https:\\\\www.ramenrater.com).\n",
    "\n",
    "Personally, my current top three favourites are Indomie's Mi Goreng, Nongshim's Shin Ramyun and MyKuali's Penang White Curry Noodle. Let's see what he has to say about these ramen in his ratings! "
   ],
   "cell_type": "markdown",
   "metadata": {}
  },
  {
   "cell_type": "code",
   "execution_count": 47,
   "metadata": {},
   "outputs": [],
   "source": [
    "# Initialisation\n",
    "\n",
    "import pandas as pd\n",
    "import numpy as np\n",
    "import matplotlib.pyplot as plt\n",
    "import seaborn as sns\n",
    "\n",
    "sns.set_style('ticks')\n",
    "plt.rc(\"axes.spines\", top=False, right=False)\n",
    "\n",
    "df = pd.read_excel('Dataset\\The-Big-List-20210117.xlsx')"
   ]
  },
  {
   "cell_type": "code",
   "execution_count": 48,
   "metadata": {},
   "outputs": [
    {
     "output_type": "stream",
     "name": "stdout",
     "text": [
      "<class 'pandas.core.frame.DataFrame'>\nRangeIndex: 3702 entries, 0 to 3701\nData columns (total 7 columns):\n #   Column    Non-Null Count  Dtype  \n---  ------    --------------  -----  \n 0   Review #  3702 non-null   int64  \n 1   Brand     3702 non-null   object \n 2   Variety   3702 non-null   object \n 3   Style     3702 non-null   object \n 4   Country   3702 non-null   object \n 5   Stars     3702 non-null   object \n 6   T         0 non-null      float64\ndtypes: float64(1), int64(1), object(5)\nmemory usage: 202.6+ KB\nNone\n\nNumber of rows with duplicates: 0 \n\n"
     ]
    },
    {
     "output_type": "display_data",
     "data": {
      "text/plain": "      Review #      Brand                                            Variety  \\\n2634      1068       Koka        Oriental Instant Noodles Stir Fried Noodles   \n1953      1749    Yum Yum  Jumbo Instant Noodles Tom Yum Kung Creamy Flavour   \n1604      2098   Nongshim                          Kimchi Flavor Noodle Soup   \n1510      2192  Nyor Nyar                  Penang White Curry Instant Noodle   \n391       3311      Paldo                           Teumsae Ramen (9,413SHU)   \n\n     Style        Country Stars   T  \n2634  Pack      Singapore  3.75 NaN  \n1953  Pack       Thailand     5 NaN  \n1604   Cup  United States     5 NaN  \n1510  Pack       Malaysia     5 NaN  \n391   Pack    South Korea     4 NaN  ",
      "text/html": "<div>\n<style scoped>\n    .dataframe tbody tr th:only-of-type {\n        vertical-align: middle;\n    }\n\n    .dataframe tbody tr th {\n        vertical-align: top;\n    }\n\n    .dataframe thead th {\n        text-align: right;\n    }\n</style>\n<table border=\"1\" class=\"dataframe\">\n  <thead>\n    <tr style=\"text-align: right;\">\n      <th></th>\n      <th>Review #</th>\n      <th>Brand</th>\n      <th>Variety</th>\n      <th>Style</th>\n      <th>Country</th>\n      <th>Stars</th>\n      <th>T</th>\n    </tr>\n  </thead>\n  <tbody>\n    <tr>\n      <th>2634</th>\n      <td>1068</td>\n      <td>Koka</td>\n      <td>Oriental Instant Noodles Stir Fried Noodles</td>\n      <td>Pack</td>\n      <td>Singapore</td>\n      <td>3.75</td>\n      <td>NaN</td>\n    </tr>\n    <tr>\n      <th>1953</th>\n      <td>1749</td>\n      <td>Yum Yum</td>\n      <td>Jumbo Instant Noodles Tom Yum Kung Creamy Flavour</td>\n      <td>Pack</td>\n      <td>Thailand</td>\n      <td>5</td>\n      <td>NaN</td>\n    </tr>\n    <tr>\n      <th>1604</th>\n      <td>2098</td>\n      <td>Nongshim</td>\n      <td>Kimchi Flavor Noodle Soup</td>\n      <td>Cup</td>\n      <td>United States</td>\n      <td>5</td>\n      <td>NaN</td>\n    </tr>\n    <tr>\n      <th>1510</th>\n      <td>2192</td>\n      <td>Nyor Nyar</td>\n      <td>Penang White Curry Instant Noodle</td>\n      <td>Pack</td>\n      <td>Malaysia</td>\n      <td>5</td>\n      <td>NaN</td>\n    </tr>\n    <tr>\n      <th>391</th>\n      <td>3311</td>\n      <td>Paldo</td>\n      <td>Teumsae Ramen (9,413SHU)</td>\n      <td>Pack</td>\n      <td>South Korea</td>\n      <td>4</td>\n      <td>NaN</td>\n    </tr>\n  </tbody>\n</table>\n</div>"
     },
     "metadata": {}
    }
   ],
   "source": [
    "# A quick look at the dataframe\n",
    "print(df.info())\n",
    "print('\\nNumber of rows with duplicates:', df.duplicated().sum(),'\\n')\n",
    "display(df.sample(5))"
   ]
  },
  {
   "cell_type": "code",
   "execution_count": 49,
   "metadata": {},
   "outputs": [],
   "source": [
    "# Column T does not have anything\n",
    "df.drop(labels='T', axis=1, inplace=True)"
   ]
  },
  {
   "source": [
    "# 1. Which brand among those that Hans has eaten has the highest variety of flavours?"
   ],
   "cell_type": "markdown",
   "metadata": {}
  },
  {
   "cell_type": "code",
   "execution_count": 50,
   "metadata": {},
   "outputs": [
    {
     "output_type": "execute_result",
     "data": {
      "text/plain": [
       "Brand\n",
       "Nissin            476\n",
       "Maruchan          131\n",
       "Nongshim          119\n",
       "Myojo             111\n",
       "Samyang Foods     103\n",
       "                 ... \n",
       "Mitoku              1\n",
       "Miracle Noodle      1\n",
       "Migawon             1\n",
       "Mie Sedaap          1\n",
       "nunu                1\n",
       "Length: 544, dtype: int64"
      ]
     },
     "metadata": {},
     "execution_count": 50
    }
   ],
   "source": [
    "df.groupby(['Brand']).size().sort_values(ascending=False)"
   ]
  },
  {
   "cell_type": "code",
   "execution_count": null,
   "metadata": {},
   "outputs": [],
   "source": []
  },
  {
   "cell_type": "code",
   "execution_count": 51,
   "metadata": {},
   "outputs": [
    {
     "output_type": "execute_result",
     "data": {
      "text/plain": [
       "              Brand                                            Variety  Stars\n",
       "0          Nongshim                                        Shin Ramyun    3.0\n",
       "1   Sapporo Ichiban                                          Chow Mein    4.5\n",
       "2            Ottogi                                    Jin Ramen (Hot)    3.5\n",
       "3         Quickchow                                     Pancit Palabok    2.5\n",
       "4           Indomie         Special Curly Noodles With Grilled Chicken    5.0\n",
       "..              ...                                                ...    ...\n",
       "75            Myojo                                Ippei-chan Yakisoba    5.0\n",
       "76         Nongshim                                      Kimchi Ramyun    4.0\n",
       "77             Mama  Jumbo Pack Pork Flavour Oriental Style Instant...    3.5\n",
       "78    Sakurai Foods          Sakurai Foods 100% Vegetarian Miso Flavor    4.5\n",
       "79     Annie Chun's                       Ramen House Soy Ginger Ramen    2.0\n",
       "\n",
       "[80 rows x 3 columns]"
      ],
      "text/html": "<div>\n<style scoped>\n    .dataframe tbody tr th:only-of-type {\n        vertical-align: middle;\n    }\n\n    .dataframe tbody tr th {\n        vertical-align: top;\n    }\n\n    .dataframe thead th {\n        text-align: right;\n    }\n</style>\n<table border=\"1\" class=\"dataframe\">\n  <thead>\n    <tr style=\"text-align: right;\">\n      <th></th>\n      <th>Brand</th>\n      <th>Variety</th>\n      <th>Stars</th>\n    </tr>\n  </thead>\n  <tbody>\n    <tr>\n      <th>0</th>\n      <td>Nongshim</td>\n      <td>Shin Ramyun</td>\n      <td>3.0</td>\n    </tr>\n    <tr>\n      <th>1</th>\n      <td>Sapporo Ichiban</td>\n      <td>Chow Mein</td>\n      <td>4.5</td>\n    </tr>\n    <tr>\n      <th>2</th>\n      <td>Ottogi</td>\n      <td>Jin Ramen (Hot)</td>\n      <td>3.5</td>\n    </tr>\n    <tr>\n      <th>3</th>\n      <td>Quickchow</td>\n      <td>Pancit Palabok</td>\n      <td>2.5</td>\n    </tr>\n    <tr>\n      <th>4</th>\n      <td>Indomie</td>\n      <td>Special Curly Noodles With Grilled Chicken</td>\n      <td>5.0</td>\n    </tr>\n    <tr>\n      <th>...</th>\n      <td>...</td>\n      <td>...</td>\n      <td>...</td>\n    </tr>\n    <tr>\n      <th>75</th>\n      <td>Myojo</td>\n      <td>Ippei-chan Yakisoba</td>\n      <td>5.0</td>\n    </tr>\n    <tr>\n      <th>76</th>\n      <td>Nongshim</td>\n      <td>Kimchi Ramyun</td>\n      <td>4.0</td>\n    </tr>\n    <tr>\n      <th>77</th>\n      <td>Mama</td>\n      <td>Jumbo Pack Pork Flavour Oriental Style Instant...</td>\n      <td>3.5</td>\n    </tr>\n    <tr>\n      <th>78</th>\n      <td>Sakurai Foods</td>\n      <td>Sakurai Foods 100% Vegetarian Miso Flavor</td>\n      <td>4.5</td>\n    </tr>\n    <tr>\n      <th>79</th>\n      <td>Annie Chun's</td>\n      <td>Ramen House Soy Ginger Ramen</td>\n      <td>2.0</td>\n    </tr>\n  </tbody>\n</table>\n<p>80 rows × 3 columns</p>\n</div>"
     },
     "metadata": {},
     "execution_count": 51
    }
   ],
   "source": [
    "# Joining tables\n",
    "df_rereview = pd.read_excel('Dataset\\The-Big-List-20210117.xlsx', sheet_name='Re-Reviewed', usecols=['Brand', 'Variety', 'Stars'])\n",
    "df_rereview"
   ]
  }
 ]
}